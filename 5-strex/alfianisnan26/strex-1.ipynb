{
 "cells": [
  {
   "cell_type": "markdown",
   "metadata": {},
   "source": [
    "# String Methods\n",
    "## Outline\n",
    "- Methods\n",
    "- Split\n",
    "- Join\n",
    "- Substring"
   ]
  },
  {
   "cell_type": "markdown",
   "metadata": {},
   "source": [
    "## Methods"
   ]
  },
  {
   "cell_type": "code",
   "execution_count": 13,
   "metadata": {},
   "outputs": [
    {
     "name": "stdout",
     "output_type": "stream",
     "text": [
      "alfian badrul ISNAN\n",
      "ALFIAN BADRUL ISNAN\n"
     ]
    }
   ],
   "source": [
    "# Upper\n",
    "nama = \"alfian badrul ISNAN\"\n",
    "namaUpper = nama.upper()\n",
    "print(nama)\n",
    "print(namaUpper)"
   ]
  },
  {
   "cell_type": "code",
   "execution_count": 14,
   "metadata": {},
   "outputs": [
    {
     "name": "stdout",
     "output_type": "stream",
     "text": [
      "Alfian Badrul Isnan\n",
      "alfian badrul isnan\n"
     ]
    }
   ],
   "source": [
    "# Lower\n",
    "nama = \"Alfian Badrul Isnan\"\n",
    "namaLower = nama.lower()\n",
    "print(nama)\n",
    "print(namaLower)"
   ]
  },
  {
   "cell_type": "code",
   "execution_count": 15,
   "metadata": {},
   "outputs": [
    {
     "name": "stdout",
     "output_type": "stream",
     "text": [
      "ALFIAN BADRUL ISNAN\n",
      "Alfian badrul isnan\n"
     ]
    }
   ],
   "source": [
    "# Capitalize\n",
    "nama = \"ALFIAN BADRUL ISNAN\"\n",
    "namaCap = nama.capitalize()\n",
    "print(nama)\n",
    "print(namaCap)"
   ]
  },
  {
   "cell_type": "markdown",
   "metadata": {},
   "source": [
    "## Split"
   ]
  },
  {
   "cell_type": "code",
   "execution_count": 27,
   "metadata": {},
   "outputs": [
    {
     "name": "stdout",
     "output_type": "stream",
     "text": [
      "\n",
      "Nama           : Alfian Badrul Isnan\n",
      "Nama Depan     : Alfian\n",
      "Nama Tengah    : Badrul\n",
      "Nama Belakang  : Isnan\n",
      "\n"
     ]
    }
   ],
   "source": [
    "name = \"Alfian Badrul Isnan\"\n",
    "names = name.split(\" \")\n",
    "# print(names) (List(string)) => ['Alfian','Badrul','Isnan']\n",
    "print(f\"\"\"\n",
    "Nama           : {name}\n",
    "Nama Depan     : {names[0]}\n",
    "Nama Tengah    : {names[1]}\n",
    "Nama Belakang  : {names[2]}\n",
    "\"\"\")"
   ]
  },
  {
   "cell_type": "code",
   "execution_count": 40,
   "metadata": {},
   "outputs": [],
   "source": [
    "namaKelas = [\n",
    "    'alpha',\n",
    "    'beta',\n",
    "    'delta',\n",
    "    'gamma',\n",
    "    'omni',\n",
    "    'theta',\n",
    "    'epsilon']\n",
    "kelas1 = \"6-ipa-7\"\n",
    "kelas2 = \"3-ips-3\"\n",
    "kelas3 = \"2-bahasa-1\"\n",
    "# ----- DATA 1 -----\n",
    "# Tingkat   : 12\n",
    "# Semester  : 8\n",
    "# Jurusan   : IPA\n",
    "# Rombel    : Epsilon\n",
    "# ----- DATA 2 -----\n",
    "# Tingkat   : 11\n",
    "# Semester  : 3\n",
    "# Jurusan   : IPS\n",
    "# Rombel    : Delta\n",
    "# ----- DATA 3 -----\n",
    "# Tingkat   : 10\n",
    "# Semester  : 2\n",
    "# Jurusan   : BAHASA\n",
    "# Rombel    : Alpha"
   ]
  },
  {
   "cell_type": "code",
   "execution_count": 52,
   "metadata": {},
   "outputs": [
    {
     "name": "stdout",
     "output_type": "stream",
     "text": [
      "----- DATA -----\n",
      "Tingkat     : 10\n",
      "Semester    : 2\n",
      "Jurusan     : BAHASA\n",
      "Rombel      : Alpha\n",
      "\n"
     ]
    }
   ],
   "source": [
    "d = kelas3.split(\"-\")\n",
    "print(f\"\"\"----- DATA -----\n",
    "Tingkat     : {int((int(d[0])+1)/2)+9}\n",
    "Semester    : {d[0]}\n",
    "Jurusan     : {d[1].upper()}\n",
    "Rombel      : {namaKelas[int(d[2])-1].capitalize()}\n",
    "\"\"\")"
   ]
  },
  {
   "cell_type": "markdown",
   "metadata": {},
   "source": [
    "## Join"
   ]
  },
  {
   "cell_type": "code",
   "execution_count": 58,
   "metadata": {},
   "outputs": [
    {
     "name": "stdout",
     "output_type": "stream",
     "text": [
      "HALO\n"
     ]
    }
   ],
   "source": [
    "data = [\"H\",\"A\",\"L\",\"O\"]\n",
    "pemisah = \"\"\n",
    "\n",
    "print(pemisah.join(data))"
   ]
  },
  {
   "cell_type": "code",
   "execution_count": 62,
   "metadata": {},
   "outputs": [
    {
     "name": "stdout",
     "output_type": "stream",
     "text": [
      "alpha:beta:delta:gamma:omni:theta:epsilon\n"
     ]
    }
   ],
   "source": [
    "sep = \":\"\n",
    "print(sep.join(namaKelas))"
   ]
  },
  {
   "cell_type": "code",
   "execution_count": 66,
   "metadata": {},
   "outputs": [
    {
     "name": "stdout",
     "output_type": "stream",
     "text": [
      "alfian badrul isnan\n",
      "['alfian', 'badrul', 'isnan']\n",
      "['Alfian', 'Badrul', 'Isnan']\n",
      "Alfian Badrul Isnan\n"
     ]
    }
   ],
   "source": [
    "nama = \"alfian badrul isnan\"\n",
    "print(nama)\n",
    "# Split dengan spasi\n",
    "names = nama.split(\" \")\n",
    "# Capitalize perkata\n",
    "print(names)\n",
    "names[0] = names[0].capitalize()\n",
    "names[1] = names[1].capitalize()\n",
    "names[2] = names[2].capitalize()\n",
    "# Join dengan spasi\n",
    "print(names)\n",
    "print(\" \".join(names))"
   ]
  },
  {
   "cell_type": "code",
   "execution_count": 70,
   "metadata": {},
   "outputs": [
    {
     "name": "stdout",
     "output_type": "stream",
     "text": [
      "----- DATA -----\n",
      "Nama        : Alfian Badrul Isnan\n",
      "Tingkat     : 12\n",
      "Semester    : 6\n",
      "Jurusan     : IPA\n",
      "Rombel      : Epsilon\n",
      "\n"
     ]
    }
   ],
   "source": [
    "namaKelas = [\n",
    "    'alpha',\n",
    "    'beta',\n",
    "    'delta',\n",
    "    'gamma',\n",
    "    'omni',\n",
    "    'theta',\n",
    "    'epsilon']\n",
    "kelas1 = \"6-ipa-7-alfian-badrul-isnan\"\n",
    "kelas2 = \"3-ips-3-alfian-badrul-isnan\"\n",
    "kelas3 = \"2-bahasa-1-alfian-badrul-isnan\"\n",
    "\n",
    "d = kelas1.split(\"-\")\n",
    "d[3] = d[3].capitalize()\n",
    "d[4] = d[4].capitalize()\n",
    "d[5] = d[5].capitalize()\n",
    "namaLengkap = \" \".join(d[3:])\n",
    "\n",
    "print(f\"\"\"----- DATA -----\n",
    "Nama        : {namaLengkap}\n",
    "Tingkat     : {int((int(d[0])+1)/2)+9}\n",
    "Semester    : {d[0]}\n",
    "Jurusan     : {d[1].upper()}\n",
    "Rombel      : {namaKelas[int(d[2])-1].capitalize()}\n",
    "\"\"\")"
   ]
  },
  {
   "cell_type": "code",
   "execution_count": 3,
   "metadata": {},
   "outputs": [
    {
     "name": "stdout",
     "output_type": "stream",
     "text": [
      "1234\n"
     ]
    },
    {
     "ename": "TypeError",
     "evalue": "can only concatenate str (not \"int\") to str",
     "output_type": "error",
     "traceback": [
      "\u001b[0;31m---------------------------------------------------------------------------\u001b[0m",
      "\u001b[0;31mTypeError\u001b[0m                                 Traceback (most recent call last)",
      "\u001b[1;32m/Users/Personal/Documents/Programming/Latihan/L22-PY/5-strex/alfianisnan26/strex-1.ipynb Cell 15\u001b[0m in \u001b[0;36m<cell line: 5>\u001b[0;34m()\u001b[0m\n\u001b[1;32m      <a href='vscode-notebook-cell:/Users/Personal/Documents/Programming/Latihan/L22-PY/5-strex/alfianisnan26/strex-1.ipynb#X20sZmlsZQ%3D%3D?line=1'>2</a>\u001b[0m \u001b[39mprint\u001b[39m(data)\n\u001b[1;32m      <a href='vscode-notebook-cell:/Users/Personal/Documents/Programming/Latihan/L22-PY/5-strex/alfianisnan26/strex-1.ipynb#X20sZmlsZQ%3D%3D?line=3'>4</a>\u001b[0m data \u001b[39m=\u001b[39m \u001b[39m\"\u001b[39m\u001b[39m1234\u001b[39m\u001b[39m\"\u001b[39m\n\u001b[0;32m----> <a href='vscode-notebook-cell:/Users/Personal/Documents/Programming/Latihan/L22-PY/5-strex/alfianisnan26/strex-1.ipynb#X20sZmlsZQ%3D%3D?line=4'>5</a>\u001b[0m \u001b[39mprint\u001b[39m(data \u001b[39m+\u001b[39;49m \u001b[39m26\u001b[39;49m)\n",
      "\u001b[0;31mTypeError\u001b[0m: can only concatenate str (not \"int\") to str"
     ]
    }
   ],
   "source": [
    "data = 1234\n",
    "print(data)\n",
    "\n",
    "data = \"1234\"\n",
    "print(data + 26)\n",
    "\n",
    "\n",
    "\n"
   ]
  }
 ],
 "metadata": {
  "kernelspec": {
   "display_name": "Python 3.10.5 64-bit",
   "language": "python",
   "name": "python3"
  },
  "language_info": {
   "codemirror_mode": {
    "name": "ipython",
    "version": 3
   },
   "file_extension": ".py",
   "mimetype": "text/x-python",
   "name": "python",
   "nbconvert_exporter": "python",
   "pygments_lexer": "ipython3",
   "version": "3.10.5"
  },
  "orig_nbformat": 4,
  "vscode": {
   "interpreter": {
    "hash": "aee8b7b246df8f9039afb4144a1f6fd8d2ca17a180786b69acc140d282b71a49"
   }
  }
 },
 "nbformat": 4,
 "nbformat_minor": 2
}
