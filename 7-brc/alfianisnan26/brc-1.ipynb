{
 "cells": [
  {
   "cell_type": "markdown",
   "metadata": {},
   "source": [
    "# Branching"
   ]
  },
  {
   "cell_type": "code",
   "execution_count": 1,
   "metadata": {},
   "outputs": [
    {
     "name": "stdout",
     "output_type": "stream",
     "text": [
      "Hasil : 5.0\n"
     ]
    }
   ],
   "source": [
    "# Flow chart latihan\n",
    "# Start\n",
    "\n",
    "# definition\n",
    "a = 3\n",
    "b = 4\n",
    "\n",
    "# process 1\n",
    "a2 = a ** 2\n",
    "\n",
    "# process 2\n",
    "b2 = b ** 2\n",
    "\n",
    "# process 3\n",
    "c2 = a2 + b2\n",
    "\n",
    "# process 4\n",
    "c = c2 ** 0.5\n",
    "\n",
    "# display\n",
    "print(f\"Hasil : {c}\")\n",
    "\n",
    "# FInish"
   ]
  },
  {
   "cell_type": "code",
   "execution_count": null,
   "metadata": {},
   "outputs": [],
   "source": [
    "# Menentukan sebuah angka ganjil atau genap\n",
    "\n",
    "# hasil = a % 2\n",
    "# jika hasil sama dengan nol maka genap\n",
    "# selain itu maka ganjil\n",
    "\n",
    "a = int(input(\"Masukkan angka yang akan di cek : \"))\n",
    "\n",
    "hasilMod = a % 2\n",
    "\n",
    "isGenap = hasilMod == 0\n",
    "\n",
    "if isGenap:\n",
    "    print(\"Genap\")\n",
    "\n",
    "else:\n",
    "    print(\"Ganjil\")"
   ]
  },
  {
   "cell_type": "code",
   "execution_count": 6,
   "metadata": {},
   "outputs": [
    {
     "name": "stdout",
     "output_type": "stream",
     "text": [
      "udin adalah remaja\n",
      "udin berumur 17 tahun\n"
     ]
    }
   ],
   "source": [
    "# Latihan\n",
    "\n",
    "# Test Case\n",
    "\n",
    "# input     : 2\n",
    "# output    :\n",
    "# udin adalah anak\n",
    "# udin masih dibawah 5 tahun\n",
    "# udin berumur 2 tahun\n",
    "\n",
    "# input     : 8\n",
    "# output    :\n",
    "# udin adalah anak\n",
    "# udin berumur 8 tahun\n",
    "\n",
    "# input     : 15\n",
    "# output    :\n",
    "# udin adalah remaja\n",
    "# udin berumur 15 tahun\n",
    "\n",
    "# input     : 28\n",
    "# output    :\n",
    "# udin adalah dewasa\n",
    "# udin berumur 28 tahun\n",
    "\n",
    "\n",
    "nama = \"udin\"\n",
    "umur = int(input(\"umur : \"))\n",
    "\n",
    "if umur >= 20:\n",
    "    print(f\"{nama} adalah dewasa\")\n",
    "else:\n",
    "    if(umur < 15):\n",
    "        print(f\"{nama} adalah anak\")\n",
    "        if(umur < 5):\n",
    "            print(f\"{nama} masih dibawah 5 tahun\")\n",
    "    else:\n",
    "        print(f\"{nama} adalah remaja\")\n",
    "\n",
    "print(f\"{nama} berumur {umur} tahun\")"
   ]
  },
  {
   "cell_type": "code",
   "execution_count": 8,
   "metadata": {},
   "outputs": [
    {
     "name": "stdout",
     "output_type": "stream",
     "text": [
      "lebih dari 10\n",
      "lebih dari 0\n"
     ]
    }
   ],
   "source": [
    "decission = None\n",
    "\n",
    "# bentuk tanpa else\n",
    "\n",
    "if decission:\n",
    "    # process true\n",
    "    pass\n",
    "\n",
    "# bentuk dengan else\n",
    "\n",
    "if decission:\n",
    "    # process true\n",
    "    pass\n",
    "else:\n",
    "    # process false\n",
    "    pass\n",
    "\n",
    "# bentuk nested if-else\n",
    "\n",
    "if decission:\n",
    "    # process a true\n",
    "    if decission:\n",
    "        # process b true\n",
    "        pass\n",
    "    else:\n",
    "        # process b false\n",
    "        pass\n",
    "else:\n",
    "    # process a false\n",
    "    pass\n",
    "\n",
    "# bentuk if-elif\n",
    "\n",
    "if decission:\n",
    "    # process a true\n",
    "    pass\n",
    "elif decission:\n",
    "    # process b true\n",
    "    pass\n",
    "elif decission:\n",
    "    # process c true\n",
    "    pass\n",
    "\n",
    "if decission:\n",
    "    # process a true\n",
    "    pass\n",
    "if decission:\n",
    "    # process b true\n",
    "    pass\n",
    "if decission:\n",
    "    # process c true\n",
    "    pass\n",
    "\n",
    "# bentuk if-elif-else\n",
    "\n",
    "if decission:\n",
    "    # process a true\n",
    "    pass\n",
    "elif decission:\n",
    "    # process b true\n",
    "    pass\n",
    "elif decission:\n",
    "    # process c true\n",
    "    pass\n",
    "else:\n",
    "    # process false\n",
    "    pass\n",
    "\n",
    "\n",
    "a = 15\n",
    "\n",
    "if a > 20:\n",
    "    print(\"lebih dari 20\")\n",
    "if a > 10:\n",
    "    print(\"lebih dari 10\")\n",
    "if a > 0:\n",
    "    print(\"lebih dari 0\")"
   ]
  },
  {
   "cell_type": "markdown",
   "metadata": {},
   "source": [
    "## Bentuk if saja\n",
    "\n",
    "<img src=\"./Screenshot 2022-10-29 at 11.49.59.png\" height=400>\n",
    "\n",
    "```python\n",
    "kondisi = True\n",
    "print(\"proses diluar percabangan sebelumnya\")\n",
    "if kondisi:\n",
    "    print(\"proses kondisi True\")\n",
    "\n",
    "print(\"proses diluar percabangan setelahnya\")\n",
    "```\n",
    "\n",
    "## Bentuk if-else\n",
    "\n",
    "<img src=\"./Screenshot 2022-10-29 at 11.50.03.png\" height=400>\n",
    "\n",
    "```python\n",
    "kondisi = True\n",
    "print(\"proses diluar percabangan sebelumnya\")\n",
    "if kondisi:\n",
    "    print(\"proses kondisi True\")\n",
    "else:\n",
    "    print(\"proses kondisi False\")\n",
    "\n",
    "print(\"proses diluar percabangan setelahnya\")\n",
    "```\n",
    "\n",
    "\n",
    "## Bentuk nested if-else (beranak)\n",
    "\n",
    "<img src=\"./Screenshot 2022-10-29 at 11.50.09.png\" height=400>\n",
    "\n",
    "```python\n",
    "kondisi_a = True\n",
    "kondisi_b = False\n",
    "print(\"proses diluar percabangan sebelumnya\")\n",
    "if kondisi_a:\n",
    "    print(\"proses a kondisi True\")\n",
    "    if kondisi_b:\n",
    "        print(\"proses b kondisi True\")\n",
    "    else:\n",
    "        print(\"proses b kondisi False\")\n",
    "else:\n",
    "    print(\"proses a kondisi False\")\n",
    "\n",
    "print(\"proses diluar percabangan setelahnya\")\n",
    "```\n",
    "\n",
    "\n",
    "## Bentuk if-elif\n",
    "\n",
    "<img src=\"./Screenshot 2022-10-29 at 11.50.50.png\" height=400>\n",
    "\n",
    "```python\n",
    "kondisi_a = True\n",
    "kondisi_b = False\n",
    "kondisi_c = True\n",
    "\n",
    "print(\"proses diluar percabangan sebelumnya\")\n",
    "if kondisi_a:\n",
    "    print(\"proses a kondisi True\")\n",
    "elif kondisi_b:\n",
    "    print(\"proses b kondisi True\")\n",
    "elif kondisi_c:\n",
    "    print(\"proses c kondisi True\")\n",
    "\n",
    "print(\"proses diluar percabangan setelahnya\")\n",
    "```\n",
    "\n",
    "Sama dengan bentuk nested berikut:\n",
    "\n",
    "```python\n",
    "kondisi_a = True\n",
    "kondisi_b = False\n",
    "kondisi_c = True\n",
    "\n",
    "print(\"proses diluar percabangan sebelumnya\")\n",
    "if kondisi_a:\n",
    "    print(\"proses a kondisi True\")\n",
    "    if kondisi_b:\n",
    "        print(\"proses b kondisi True\")\n",
    "        if kondisi_c:\n",
    "            print(\"proses c kondisi True\")\n",
    "\n",
    "print(\"proses diluar percabangan setelahnya\")\n",
    "```\n",
    "\n",
    "## Bentuk if-elif-else\n",
    "\n",
    "<img src=\"./Screenshot 2022-10-29 at 11.51.15.png\" height=400>\n",
    "\n",
    "\n",
    "```python\n",
    "kondisi_a = True\n",
    "kondisi_b = False\n",
    "kondisi_c = True\n",
    "\n",
    "print(\"proses diluar percabangan sebelumnya\")\n",
    "if kondisi_a:\n",
    "    print(\"proses a kondisi True\")\n",
    "elif kondisi_b:\n",
    "    print(\"proses b kondisi True\")\n",
    "elif kondisi_c:\n",
    "    print(\"proses c kondisi True\")\n",
    "else:\n",
    "    print(\"process kondisi False\")\n",
    "\n",
    "print(\"proses diluar percabangan setelahnya\")\n",
    "```"
   ]
  },
  {
   "cell_type": "code",
   "execution_count": null,
   "metadata": {},
   "outputs": [],
   "source": [
    "# Aplikasi klasifikasi generasi berdasarkan umur\n",
    "# 1. Post Gen Z     : 2013 keatas\n",
    "# 2. Gen Z          : 1997 - 2012\n",
    "# 3. Milenial       : 1981 - 1996\n",
    "# 4. Gen X          : 1965 - 1980\n",
    "# 5. Baby Boomer    : 1946 - 1964\n",
    "# 6. Pre-boomer     : 1945 kebawah\n",
    "\n",
    "# Input Umur\n",
    "# Tampilkan Tahun Lahir\n",
    "# Tampilkan Klasifikasi Generasi\n",
    "\n",
    "# Contoh :\n",
    "\n",
    "# Selamat datang di aplikasi klasifikasi, temukan klasifikasi\n",
    "# grup generasi anda.\n",
    "\n",
    "# Masukkan nama anda : \n",
    "# Halo, {nama}. Masukkan umur anda : \n",
    "# Wah, anda lahir pada tahun {tahun}\n",
    "# Anda termasuk kedalam klasifikasi grup {generasi}\n",
    "# Sampai Jumpa!\n",
    "\n",
    "print(\"Anda termasuk kedalam klasifikasi grup \", end=\"\")"
   ]
  },
  {
   "cell_type": "code",
   "execution_count": 4,
   "metadata": {},
   "outputs": [
    {
     "name": "stdout",
     "output_type": "stream",
     "text": [
      "Bingung kumemikirnya\n",
      "Program selesai\n"
     ]
    }
   ],
   "source": [
    "warnaAngkot = input(\"Masukkan warna angkot : \")\n",
    "if warnaAngkot == \"Hijau Toska\":\n",
    "    print(\"Tujuan Cisaat\")\n",
    "elif warnaAngkot == \"Ungu\":\n",
    "    print(\"Tujuan Cicurug\")\n",
    "elif warnaAngkot == \"Hijau Putih\":\n",
    "    print(\"Tujuan Warungkiara\")\n",
    "else:\n",
    "    print(\"Bingung kumemikirnya\")\n",
    "\n",
    "print(\"Program selesai\")\n"
   ]
  },
  {
   "cell_type": "code",
   "execution_count": 5,
   "metadata": {},
   "outputs": [
    {
     "name": "stdout",
     "output_type": "stream",
     "text": [
      "Tidak lulus\n"
     ]
    }
   ],
   "source": [
    "mtk = 50\n",
    "fisika = 90\n",
    "\n",
    "if mtk >= 70 and fisika >= 70:\n",
    "    print(\"Lulus\")\n",
    "else:\n",
    "    print(\"Tidak lulus\")\n"
   ]
  },
  {
   "cell_type": "markdown",
   "metadata": {},
   "source": [
    "Perhitungan tahun kabisat\n",
    "\n",
    "1. Jika angka tahun itu habis dibagi 400 atau tidak memiliki sisa, maka tahun itu sudah pasti tahun kabisat\n",
    "2. Jika angka tahun itu memiliki sisa saat dibagi 400 tetapi tidak memiliki sisa saat dibagi 100 maka tahun itu sudah pasti bukan merupakan tahun kabisat\n",
    "3. Jika angka tahun itu memiliki sisa saat dibagi 400, memiliki sisa saat dibagi 100 akan tetapi tidak memiliki sisa saat dibagi 4, maka tahun itu merupakan tahun kabisat\n",
    "4. Lainnya adalah bukan tahun kabisat"
   ]
  },
  {
   "cell_type": "code",
   "execution_count": null,
   "metadata": {},
   "outputs": [],
   "source": [
    "a = True\n",
    "b = False\n",
    "\n",
    "hasil = a and b # False, salahsatunya false, semuanya false\n",
    "hasil = a or b # True, salahsatunya true, semuanya true\n",
    "hasil = not a # False, kebalikan kondisi\n",
    "hasil = a == b # False, sama dengan\n",
    "hasil = a != b # True, tidak sama dengan"
   ]
  },
  {
   "cell_type": "code",
   "execution_count": 12,
   "metadata": {},
   "outputs": [
    {
     "name": "stdout",
     "output_type": "stream",
     "text": [
      "Bukan Kabisat\n"
     ]
    }
   ],
   "source": [
    "tahun = int(input(\"Tahun : \"))\n",
    "print((\"Bukan \" if not(tahun % 400 == 0 or (tahun % 400 != 0 and tahun % 100 != 0 and tahun % 4 == 0)) else \"\") + \"Kabisat\")"
   ]
  }
 ],
 "metadata": {
  "kernelspec": {
   "display_name": "Python 3.10.5 64-bit",
   "language": "python",
   "name": "python3"
  },
  "language_info": {
   "codemirror_mode": {
    "name": "ipython",
    "version": 3
   },
   "file_extension": ".py",
   "mimetype": "text/x-python",
   "name": "python",
   "nbconvert_exporter": "python",
   "pygments_lexer": "ipython3",
   "version": "3.10.5"
  },
  "orig_nbformat": 4,
  "vscode": {
   "interpreter": {
    "hash": "aee8b7b246df8f9039afb4144a1f6fd8d2ca17a180786b69acc140d282b71a49"
   }
  }
 },
 "nbformat": 4,
 "nbformat_minor": 2
}
