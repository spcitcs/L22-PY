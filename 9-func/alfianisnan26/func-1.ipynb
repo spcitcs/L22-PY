{
 "cells": [
  {
   "cell_type": "markdown",
   "metadata": {},
   "source": [
    "# Function\n",
    "\n",
    "Sebuah **alat** untuk melakukan suatu proses.\n",
    "- input\n",
    "- proses\n",
    "- output\n",
    "\n",
    "Contoh notasi di matematika, pendefinisian\n",
    "- f(x) <-- nama fungsi f. input x\n",
    "- f(x, y) <-- nama fungsi f. input x dan y\n",
    "- g(a, b) <-- nama fungsi g. input a dan b\n",
    "\n",
    "Pendefinisian eksplisit dengan proses\n",
    "- f(x, y) = x + y <-- nama fungsi f. inputnya x dan y. output adalah hasil dari proses x + y\n",
    "- g(a, b) = x^2 + 6y <-- nama fungsinya g. inputnya a dan b. output adalah hasil dari proses x^2 di tambah 6y\n",
    "\n",
    "Penggunaan fungsi di matematika\n",
    "contoh, fungsi pythagoras\n",
    "a^2 = b^2 + c^2\n",
    "a = (b^2 + c^2) ^ (1/2)\n",
    "\n",
    "- pythagoras(b, c) = (b^2 + c^2) ^ (1/2)\n",
    "- dik: b = 3, c = 4\n",
    "- dit: a ?\n",
    "- a = pythagoras(b, c)\n",
    "- a = pythagoras(3, 4)\n",
    "- a = (b^2 + c^2) ^ (1/2)\n",
    "- a = (3^2 + 4^2) ^ (1/2)\n",
    "- a = (9 + 16) ^ (1/2)\n",
    "- a = 25 ^ (1/2)\n",
    "- a = 5"
   ]
  },
  {
   "cell_type": "code",
   "execution_count": 3,
   "metadata": {},
   "outputs": [
    {
     "name": "stdout",
     "output_type": "stream",
     "text": [
      "5.0\n",
      "6.4031242374328485\n",
      "5.0990195135927845\n",
      "5.385164807134504\n",
      "4.47213595499958\n"
     ]
    }
   ],
   "source": [
    "# membuat fungsi pythagoras\n",
    "def pythagoras(b, c):\n",
    "    a = ((b**2) + (c**2)) ** (1/2) # setara (b^2 + c^2) ^ (1/2)\n",
    "    return a\n",
    "\n",
    "print(pythagoras(3, 4))\n",
    "print(pythagoras(5, 4))\n",
    "print(pythagoras(1, 5))\n",
    "print(pythagoras(2, 5))\n",
    "print(pythagoras(2, 4))\n"
   ]
  },
  {
   "cell_type": "code",
   "execution_count": 7,
   "metadata": {},
   "outputs": [
    {
     "name": "stdout",
     "output_type": "stream",
     "text": [
      "Alfian Badrul Isnan\n",
      "Proses di dalam printNamaSaya\n"
     ]
    }
   ],
   "source": [
    "def printNamaSaya():\n",
    "    print(\"Alfian Badrul Isnan\")\n",
    "    print(\"Proses di dalam printNamaSaya\")\n",
    "\n",
    "\n",
    "\n",
    "printNamaSaya()"
   ]
  },
  {
   "cell_type": "code",
   "execution_count": 13,
   "metadata": {},
   "outputs": [
    {
     "name": "stdout",
     "output_type": "stream",
     "text": [
      "Halo, selamat datang di aplikasi saya\n",
      "Halo, alfian. Ada yang bisa saya bantu?\n"
     ]
    }
   ],
   "source": [
    "def selamatDatang():\n",
    "    print(\"Halo, selamat datang di aplikasi saya\")\n",
    "\n",
    "def inputNama():\n",
    "    hasil = input(\"Masukkan nama anda : \")\n",
    "    return hasil\n",
    "\n",
    "def sambutan(nama):\n",
    "    print(f\"Halo, {nama}. Ada yang bisa saya bantu?\")\n",
    "\n",
    "selamatDatang()\n",
    "nama = inputNama()\n",
    "sambutan(nama)"
   ]
  }
 ],
 "metadata": {
  "kernelspec": {
   "display_name": "Python 3.10.5 64-bit",
   "language": "python",
   "name": "python3"
  },
  "language_info": {
   "codemirror_mode": {
    "name": "ipython",
    "version": 3
   },
   "file_extension": ".py",
   "mimetype": "text/x-python",
   "name": "python",
   "nbconvert_exporter": "python",
   "pygments_lexer": "ipython3",
   "version": "3.10.5"
  },
  "orig_nbformat": 4,
  "vscode": {
   "interpreter": {
    "hash": "aee8b7b246df8f9039afb4144a1f6fd8d2ca17a180786b69acc140d282b71a49"
   }
  }
 },
 "nbformat": 4,
 "nbformat_minor": 2
}
