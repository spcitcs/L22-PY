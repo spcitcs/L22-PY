{
 "cells": [
  {
   "cell_type": "markdown",
   "metadata": {},
   "source": [
    "# Function\n",
    "\n",
    "Sebuah **alat** untuk melakukan suatu proses.\n",
    "- input\n",
    "- proses\n",
    "- output\n",
    "\n",
    "Contoh notasi di matematika, pendefinisian\n",
    "- f(x) <-- nama fungsi f. input x\n",
    "- f(x, y) <-- nama fungsi f. input x dan y\n",
    "- g(a, b) <-- nama fungsi g. input a dan b\n",
    "\n",
    "Pendefinisian eksplisit dengan proses\n",
    "- f(x, y) = x + y <-- nama fungsi f. inputnya x dan y. output adalah hasil dari proses x + y\n",
    "- g(a, b) = x^2 + 6y <-- nama fungsinya g. inputnya a dan b. output adalah hasil dari proses x^2 di tambah 6y\n",
    "\n",
    "Penggunaan fungsi di matematika\n",
    "contoh, fungsi pythagoras\n",
    "a^2 = b^2 + c^2\n",
    "a = (b^2 + c^2) ^ (1/2)\n",
    "\n",
    "- pythagoras(b, c) = (b^2 + c^2) ^ (1/2)\n",
    "- dik: b = 3, c = 4\n",
    "- dit: a ?\n",
    "- a = pythagoras(b, c)\n",
    "- a = pythagoras(3, 4)\n",
    "- a = (b^2 + c^2) ^ (1/2)\n",
    "- a = (3^2 + 4^2) ^ (1/2)\n",
    "- a = (9 + 16) ^ (1/2)\n",
    "- a = 25 ^ (1/2)\n",
    "- a = 5"
   ]
  },
  {
   "cell_type": "code",
   "execution_count": 3,
   "metadata": {},
   "outputs": [
    {
     "name": "stdout",
     "output_type": "stream",
     "text": [
      "5.0\n",
      "6.4031242374328485\n",
      "5.0990195135927845\n",
      "5.385164807134504\n",
      "4.47213595499958\n"
     ]
    }
   ],
   "source": [
    "# membuat fungsi pythagoras\n",
    "def pythagoras(b, c):\n",
    "    a = ((b**2) + (c**2)) ** (1/2) # setara (b^2 + c^2) ^ (1/2)\n",
    "    return a\n",
    "\n",
    "print(pythagoras(3, 4))\n",
    "print(pythagoras(5, 4))\n",
    "print(pythagoras(1, 5))\n",
    "print(pythagoras(2, 5))\n",
    "print(pythagoras(2, 4))\n"
   ]
  },
  {
   "cell_type": "code",
   "execution_count": 7,
   "metadata": {},
   "outputs": [
    {
     "name": "stdout",
     "output_type": "stream",
     "text": [
      "Alfian Badrul Isnan\n",
      "Proses di dalam printNamaSaya\n"
     ]
    }
   ],
   "source": [
    "def printNamaSaya():\n",
    "    print(\"Alfian Badrul Isnan\")\n",
    "    print(\"Proses di dalam printNamaSaya\")\n",
    "\n",
    "\n",
    "\n",
    "printNamaSaya()"
   ]
  },
  {
   "cell_type": "code",
   "execution_count": 13,
   "metadata": {},
   "outputs": [
    {
     "name": "stdout",
     "output_type": "stream",
     "text": [
      "Halo, selamat datang di aplikasi saya\n",
      "Halo, alfian. Ada yang bisa saya bantu?\n"
     ]
    }
   ],
   "source": [
    "def selamatDatang():\n",
    "    print(\"Halo, selamat datang di aplikasi saya\")\n",
    "\n",
    "def inputNama():\n",
    "    hasil = input(\"Masukkan nama anda : \")\n",
    "    return hasil\n",
    "\n",
    "def sambutan(nama):\n",
    "    print(f\"Halo, {nama}. Ada yang bisa saya bantu?\")\n",
    "\n",
    "selamatDatang()\n",
    "nama = inputNama()\n",
    "sambutan(nama)"
   ]
  },
  {
   "cell_type": "code",
   "execution_count": 34,
   "metadata": {},
   "outputs": [],
   "source": [
    "# Cara penulisan fungsi\n",
    "\n",
    "# Fungsi tanpa input, dan tanpa output\n",
    "def fungsi1():\n",
    "    print(\"fungsi1 ini adalah fungsi tanpa input dan tanpa output\")\n",
    "\n",
    "# Fungsi ada input, tanpa output\n",
    "def fungsi2(input1, input2, input3):\n",
    "    # setiap input argumen hanya dapat di baca di fungsinya sendiri\n",
    "    print(\"fungsi2 ini adalah fungsi dengan tiga input, tanpa output\")\n",
    "    print(input1)\n",
    "    print(input2)\n",
    "    print(input3)\n",
    "\n",
    "# fungsi tidak ada input, ada output\n",
    "def fungsi3():\n",
    "    print(\"fungsi3 ini adalah fungsi tanpa input, dengan tiga output\")\n",
    "    output1 = 100\n",
    "    output2 = 200\n",
    "    output3 = 300\n",
    "\n",
    "    return output1, output2, output3\n",
    "\n",
    "# fungsi ada input dan ada output\n",
    "def fungsi4(input1, input2):\n",
    "    print(\"fungsi4 ini adalah fungsi dengan 2 input dan 2 output\")\n",
    "    output1 = input1 + input2\n",
    "    output2 = input1 - input2\n",
    "\n",
    "    return output1, output2\n",
    "\n"
   ]
  },
  {
   "cell_type": "code",
   "execution_count": 21,
   "metadata": {},
   "outputs": [
    {
     "name": "stdout",
     "output_type": "stream",
     "text": [
      "fungsi1 ini adalah fungsi tanpa input dan tanpa output\n"
     ]
    }
   ],
   "source": [
    "fungsi1()"
   ]
  },
  {
   "cell_type": "code",
   "execution_count": 26,
   "metadata": {},
   "outputs": [
    {
     "name": "stdout",
     "output_type": "stream",
     "text": [
      "fungsi2 ini adalah fungsi dengan tiga input, tanpa output\n",
      "10\n",
      "20\n",
      "30\n"
     ]
    }
   ],
   "source": [
    "data1 = 10\n",
    "data2 = 20\n",
    "data3 = 30\n",
    "\n",
    "fungsi2(data1, data2, data3)"
   ]
  },
  {
   "cell_type": "code",
   "execution_count": 32,
   "metadata": {},
   "outputs": [
    {
     "name": "stdout",
     "output_type": "stream",
     "text": [
      "fungsi3 ini adalah fungsi tanpa input, dengan tiga output\n",
      "100\n",
      "200\n",
      "300\n"
     ]
    }
   ],
   "source": [
    "a, b, c = fungsi3()\n",
    "print(a)\n",
    "print(b)\n",
    "print(c)"
   ]
  },
  {
   "cell_type": "code",
   "execution_count": 35,
   "metadata": {},
   "outputs": [
    {
     "name": "stdout",
     "output_type": "stream",
     "text": [
      "fungsi4 ini adalah fungsi dengan 2 input dan 2 output\n",
      "30\n",
      "-10\n"
     ]
    }
   ],
   "source": [
    "a, b = fungsi4(10, 20)\n",
    "print(a)\n",
    "print(b)"
   ]
  }
 ],
 "metadata": {
  "kernelspec": {
   "display_name": "Python 3.10.5 64-bit",
   "language": "python",
   "name": "python3"
  },
  "language_info": {
   "codemirror_mode": {
    "name": "ipython",
    "version": 3
   },
   "file_extension": ".py",
   "mimetype": "text/x-python",
   "name": "python",
   "nbconvert_exporter": "python",
   "pygments_lexer": "ipython3",
   "version": "3.10.5"
  },
  "orig_nbformat": 4,
  "vscode": {
   "interpreter": {
    "hash": "aee8b7b246df8f9039afb4144a1f6fd8d2ca17a180786b69acc140d282b71a49"
   }
  }
 },
 "nbformat": 4,
 "nbformat_minor": 2
}
