{
 "cells": [
  {
   "cell_type": "markdown",
   "metadata": {},
   "source": [
    "## Hello World"
   ]
  },
  {
   "cell_type": "code",
   "execution_count": 5,
   "metadata": {},
   "outputs": [
    {
     "name": "stdout",
     "output_type": "stream",
     "text": [
      "Halo\n"
     ]
    }
   ],
   "source": [
    "print(\"Halo\")"
   ]
  },
  {
   "cell_type": "code",
   "execution_count": 6,
   "metadata": {},
   "outputs": [
    {
     "name": "stdout",
     "output_type": "stream",
     "text": [
      "0 serials\n",
      "1 serials\n",
      "2 serials\n",
      "3 serials\n",
      "4 serials\n",
      "5 serials\n",
      "6 serials\n",
      "7 serials\n",
      "8 serials\n",
      "9 serials\n",
      "10 serials\n",
      "11 serials\n",
      "12 serials\n",
      "13 serials\n",
      "14 serials\n",
      "15 serials\n",
      "16 serials\n",
      "17 serials\n",
      "18 serials\n",
      "19 serials\n",
      "20 serials\n",
      "21 serials\n",
      "22 serials\n",
      "23 serials\n",
      "24 serials\n",
      "25 serials\n",
      "26 serials\n",
      "27 serials\n",
      "28 serials\n",
      "29 serials\n",
      "30 serials\n",
      "31 serials\n",
      "32 serials\n",
      "33 serials\n",
      "34 serials\n",
      "35 serials\n",
      "36 serials\n",
      "37 serials\n",
      "38 serials\n",
      "39 serials\n",
      "40 serials\n",
      "41 serials\n",
      "42 serials\n",
      "43 serials\n",
      "44 serials\n",
      "45 serials\n",
      "46 serials\n",
      "47 serials\n",
      "48 serials\n",
      "49 serials\n",
      "50 serials\n",
      "51 serials\n",
      "52 serials\n",
      "53 serials\n",
      "54 serials\n",
      "55 serials\n",
      "56 serials\n",
      "57 serials\n",
      "58 serials\n",
      "59 serials\n",
      "60 serials\n",
      "61 serials\n",
      "62 serials\n",
      "63 serials\n",
      "64 serials\n",
      "65 serials\n",
      "66 serials\n",
      "67 serials\n",
      "68 serials\n",
      "69 serials\n",
      "70 serials\n",
      "71 serials\n",
      "72 serials\n",
      "73 serials\n",
      "74 serials\n",
      "75 serials\n",
      "76 serials\n",
      "77 serials\n",
      "78 serials\n",
      "79 serials\n",
      "80 serials\n",
      "81 serials\n",
      "82 serials\n",
      "83 serials\n",
      "84 serials\n",
      "85 serials\n",
      "86 serials\n",
      "87 serials\n",
      "88 serials\n",
      "89 serials\n",
      "90 serials\n",
      "91 serials\n",
      "92 serials\n",
      "93 serials\n",
      "94 serials\n",
      "95 serials\n",
      "96 serials\n",
      "97 serials\n",
      "98 serials\n",
      "99 serials\n"
     ]
    }
   ],
   "source": [
    "for i in range(100):\n",
    "    print(i, \"serials\")"
   ]
  }
 ],
 "metadata": {
  "kernelspec": {
   "display_name": "Python 3.10.5 64-bit",
   "language": "python",
   "name": "python3"
  },
  "language_info": {
   "codemirror_mode": {
    "name": "ipython",
    "version": 3
   },
   "file_extension": ".py",
   "mimetype": "text/x-python",
   "name": "python",
   "nbconvert_exporter": "python",
   "pygments_lexer": "ipython3",
   "version": "3.10.5"
  },
  "orig_nbformat": 4,
  "vscode": {
   "interpreter": {
    "hash": "aee8b7b246df8f9039afb4144a1f6fd8d2ca17a180786b69acc140d282b71a49"
   }
  }
 },
 "nbformat": 4,
 "nbformat_minor": 2
}
